{
 "cells": [
  {
   "cell_type": "markdown",
   "metadata": {},
   "source": [
    "Build a neural network<br>\n",
    "Neural networks are comprised of layers/modules that perform operations on data. The torch.nn namespace provides all the building blocks you need to build your own neural network. Every module in PyTorch subclasses the nn.Module. A neural network is a module itself that consists of other modules (layers). This nested structure allows for building and managing complex architectures easily.\n",
    "<br>\n",
    "In the following sections, we'll build a neural network to classify images in the FashionMNIST dataset."
   ]
  },
  {
   "cell_type": "code",
   "execution_count": 3,
   "metadata": {},
   "outputs": [],
   "source": [
    "%matplotlib inline\n",
    "import os\n",
    "import torch\n",
    "from torch import nn\n",
    "from torch.utils.data import DataLoader\n",
    "from torchvision import datasets, transforms"
   ]
  },
  {
   "cell_type": "markdown",
   "metadata": {},
   "source": [
    "Get a hardware device for training<br>\n",
    "We want to be able to train our model on a hardware accelerator like the GPU, if it is available. Let's check to see if torch.cuda is available, else we continue to use the CPU."
   ]
  },
  {
   "cell_type": "code",
   "execution_count": 4,
   "metadata": {},
   "outputs": [
    {
     "name": "stdout",
     "output_type": "stream",
     "text": [
      "Using cuda device\n"
     ]
    }
   ],
   "source": [
    "device = 'cuda' if torch.cuda.is_available() else 'cpu'\n",
    "print('Using {} device'.format(device))"
   ]
  },
  {
   "cell_type": "markdown",
   "metadata": {},
   "source": [
    "Define the class<br>\n",
    "We define our neural network by subclassing nn.Module, and initialize the neural network layers in __init__. Every nn.Module subclass implements the operations on input data in the forward method."
   ]
  },
  {
   "cell_type": "code",
   "execution_count": 7,
   "metadata": {},
   "outputs": [],
   "source": [
    "class NeuralNetwork(nn.Module):\n",
    "    def __init__(self):\n",
    "        super(NeuralNetwork, self).__init__()\n",
    "        self.flatten = nn.Flatten()\n",
    "        self.linear_relu_stack = nn.Sequential(\n",
    "            nn.Linear(28*28, 512),\n",
    "            nn.ReLU(),\n",
    "            nn.Linear(512,512),\n",
    "            nn.ReLU(),\n",
    "            nn.Linear(512,10),\n",
    "            nn.ReLU())\n",
    "\n",
    "    def forward(self,x):\n",
    "        x = self.flatten(x)\n",
    "        logits = self.linear_relu_stack(x)\n",
    "        return logits"
   ]
  },
  {
   "cell_type": "markdown",
   "metadata": {},
   "source": [
    "We create an instance of NeuralNetwork, and move it to the device, and print it's structure."
   ]
  },
  {
   "cell_type": "code",
   "execution_count": 8,
   "metadata": {},
   "outputs": [
    {
     "name": "stdout",
     "output_type": "stream",
     "text": [
      "NeuralNetwork(\n",
      "  (flatten): Flatten(start_dim=1, end_dim=-1)\n",
      "  (linear_relu_stack): Sequential(\n",
      "    (0): Linear(in_features=784, out_features=512, bias=True)\n",
      "    (1): ReLU()\n",
      "    (2): Linear(in_features=512, out_features=512, bias=True)\n",
      "    (3): ReLU()\n",
      "    (4): Linear(in_features=512, out_features=10, bias=True)\n",
      "    (5): ReLU()\n",
      "  )\n",
      ")\n"
     ]
    }
   ],
   "source": [
    "model = NeuralNetwork().to(device)\n",
    "print(model)"
   ]
  },
  {
   "cell_type": "markdown",
   "metadata": {},
   "source": [
    "To use the model, we pass it the input data. This executes the model's forward, along with some background operations. However, do not call model.forward() directly! Calling the model on the input returns a 10-dimensional tensor with raw predicted values for each class.\n",
    "<br>\n",
    "We get the prediction densities by passing it through an instance of the nn.Softmax."
   ]
  },
  {
   "cell_type": "code",
   "execution_count": 10,
   "metadata": {},
   "outputs": [
    {
     "name": "stdout",
     "output_type": "stream",
     "text": [
      "Predicted class: tensor([6], device='cuda:0')\n"
     ]
    }
   ],
   "source": [
    "X = torch.rand(1, 28, 28, device=device)\n",
    "logits = model(X)\n",
    "pred_probab = nn. Softmax(dim = 1)(logits)\n",
    "y_pred = pred_probab.argmax(1)\n",
    "print(f\"Predicted class: {y_pred}\")"
   ]
  },
  {
   "cell_type": "markdown",
   "metadata": {},
   "source": [
    "Weight and Bias<br>\n",
    "the nn.Linear module randomly initializes the weights and bias for each layer and internally stores the values in Tnsors."
   ]
  },
  {
   "cell_type": "code",
   "execution_count": 11,
   "metadata": {},
   "outputs": [
    {
     "name": "stdout",
     "output_type": "stream",
     "text": [
      "First Linear weights: Parameter containing:\n",
      "tensor([[-0.0283, -0.0243,  0.0049,  ...,  0.0151,  0.0300,  0.0153],\n",
      "        [-0.0118, -0.0102,  0.0020,  ...,  0.0292, -0.0283,  0.0140],\n",
      "        [-0.0027, -0.0154, -0.0096,  ...,  0.0027,  0.0249, -0.0152],\n",
      "        ...,\n",
      "        [-0.0032,  0.0257, -0.0109,  ...,  0.0089, -0.0026,  0.0116],\n",
      "        [-0.0144, -0.0341,  0.0143,  ..., -0.0052,  0.0210,  0.0174],\n",
      "        [-0.0021, -0.0290, -0.0313,  ...,  0.0309,  0.0064, -0.0341]],\n",
      "       device='cuda:0', requires_grad=True) \n",
      "\n",
      "First Linear weights: Parameter containing:\n",
      "tensor([-1.9540e-02,  2.8482e-02, -2.2956e-02,  2.5327e-02, -1.8137e-02,\n",
      "         1.3479e-02,  6.6526e-03, -4.3927e-03,  2.8558e-03, -7.6080e-03,\n",
      "         2.4561e-02, -2.0997e-03,  2.7080e-02,  1.4545e-02, -1.4017e-02,\n",
      "         1.9700e-02,  1.5289e-02, -4.0830e-03, -8.1522e-03,  1.5783e-02,\n",
      "         1.8770e-02, -1.2264e-02,  9.1846e-03,  2.2370e-02,  1.0805e-02,\n",
      "         3.1949e-02,  1.7185e-02,  8.0019e-03, -1.2449e-02,  2.5554e-02,\n",
      "         1.8046e-02, -1.6676e-02, -8.4521e-03,  2.2389e-02,  2.3187e-02,\n",
      "         2.5954e-02, -7.4604e-03,  2.8578e-02, -2.2374e-03, -9.6717e-03,\n",
      "        -2.5425e-03, -2.8071e-02,  4.2207e-03,  1.7605e-02,  2.7593e-03,\n",
      "        -1.6296e-02,  3.1522e-02, -2.1645e-02, -1.4905e-02, -1.4368e-02,\n",
      "        -2.8331e-02,  3.5118e-02, -4.7945e-03, -2.5818e-02, -2.1239e-02,\n",
      "         2.8109e-02, -2.6515e-02,  3.4133e-02, -2.0538e-02, -1.2935e-02,\n",
      "        -1.1834e-02,  3.2351e-02, -2.3238e-02, -9.8698e-03,  2.9108e-02,\n",
      "        -3.3870e-02, -3.2788e-02, -1.3017e-02, -1.8872e-02,  2.7367e-02,\n",
      "        -1.2378e-02, -1.8980e-02,  2.7653e-02,  8.7832e-03,  3.2704e-02,\n",
      "         2.6629e-02, -8.3249e-03, -3.2498e-02, -3.0085e-02,  1.4567e-02,\n",
      "        -3.5534e-03,  2.7318e-02,  7.4704e-03,  1.0647e-02, -2.6385e-02,\n",
      "         1.5658e-02, -1.0548e-02, -2.8137e-02, -2.6732e-02, -3.1848e-02,\n",
      "         2.5712e-02, -7.6384e-04, -1.4414e-02, -1.0223e-02,  1.1782e-02,\n",
      "        -1.0377e-02, -1.4861e-02, -2.8424e-02,  9.8652e-03, -2.2752e-02,\n",
      "        -2.8643e-02,  2.1450e-02, -2.7214e-02,  2.6060e-02,  7.6170e-03,\n",
      "        -1.2785e-02, -7.3694e-03, -6.3592e-03, -1.1971e-02,  3.0865e-02,\n",
      "        -2.0411e-02, -1.2287e-02,  2.0333e-02,  1.5829e-03, -2.5306e-02,\n",
      "         9.5736e-04,  9.2270e-03, -9.7236e-04, -2.6074e-02, -7.4860e-03,\n",
      "         2.2033e-02,  2.7462e-02,  1.0344e-02,  1.3047e-02,  1.6732e-02,\n",
      "        -3.8822e-03, -3.2654e-02, -4.6398e-03,  2.9030e-03,  1.4705e-02,\n",
      "         1.8940e-02,  1.8649e-02, -2.1920e-02,  2.8935e-02, -4.9267e-03,\n",
      "         2.9678e-02, -3.0390e-02, -1.5725e-03, -1.2690e-04,  2.6144e-02,\n",
      "         2.1479e-02, -4.8059e-03, -9.3705e-03, -3.2351e-03, -3.4806e-02,\n",
      "         9.4042e-03,  2.6273e-02,  5.1903e-03,  2.3323e-02,  2.1335e-02,\n",
      "        -1.7368e-04, -2.7436e-02, -3.1211e-03,  2.6772e-03, -1.3038e-02,\n",
      "        -2.5779e-02, -3.9496e-03, -1.5126e-02, -2.2109e-02,  1.1652e-02,\n",
      "        -1.8833e-02,  1.5943e-03,  2.1696e-02, -2.7309e-02,  2.2720e-02,\n",
      "        -3.4171e-02, -1.6132e-02, -1.9286e-03, -3.2753e-03,  1.8292e-02,\n",
      "        -1.8261e-03, -8.5891e-03, -1.0812e-02,  9.6952e-03, -2.6043e-02,\n",
      "         9.3164e-03, -2.6481e-03, -1.5814e-02, -4.8763e-03, -1.1695e-02,\n",
      "         3.0989e-02, -9.3258e-03, -1.5626e-02,  2.1805e-02,  8.5329e-03,\n",
      "        -2.2491e-02,  9.2018e-03, -4.4678e-04,  2.5243e-02,  1.3974e-02,\n",
      "        -4.4575e-03,  2.2301e-02,  2.4717e-03,  2.7876e-02, -2.8184e-03,\n",
      "         6.7392e-03, -1.2498e-02, -1.4075e-02,  2.6678e-02,  2.1977e-03,\n",
      "         9.8395e-03, -3.0625e-02, -1.8791e-02,  1.8032e-02, -1.9892e-02,\n",
      "        -8.9705e-04, -1.0335e-02,  2.3112e-02,  2.7349e-02, -1.2087e-02,\n",
      "        -1.3484e-02,  3.3527e-03,  2.5660e-02, -1.7630e-02, -2.0828e-02,\n",
      "        -1.7355e-02,  1.7317e-02, -1.9943e-02,  2.7149e-02,  3.0105e-02,\n",
      "        -4.6858e-03, -1.1935e-02,  3.0132e-02, -1.5381e-02,  1.7653e-02,\n",
      "        -8.4655e-03, -1.0419e-02,  2.7833e-02, -3.1725e-02, -8.7117e-03,\n",
      "         7.5147e-04,  2.9721e-02,  2.1271e-02, -2.4238e-02,  1.0992e-02,\n",
      "        -2.3641e-02,  9.1988e-03,  2.2071e-02,  2.5564e-02, -4.4381e-04,\n",
      "         2.3852e-02,  1.0398e-02, -2.0003e-02,  9.5607e-03,  3.0463e-02,\n",
      "        -2.3052e-02, -2.7909e-02,  1.9720e-02, -8.9551e-03,  1.0090e-02,\n",
      "         1.0598e-02,  1.9982e-02,  1.8230e-02,  1.6047e-02, -1.5888e-02,\n",
      "        -2.1731e-02,  1.6414e-02, -2.7661e-03, -2.0446e-02,  2.4997e-02,\n",
      "         1.1187e-02,  3.2098e-02, -1.1662e-02, -2.7294e-02,  2.5409e-02,\n",
      "         2.9225e-02, -1.4186e-02, -2.6384e-02, -1.9656e-02,  1.5533e-02,\n",
      "         2.6168e-02,  1.4375e-03,  2.3883e-02, -3.5697e-03,  2.4093e-02,\n",
      "        -3.0685e-02,  2.4616e-02, -7.3884e-03, -2.4981e-02, -1.4887e-02,\n",
      "         7.0323e-03,  2.3603e-02,  6.0480e-03,  3.2127e-02, -3.0036e-02,\n",
      "         3.3944e-02,  1.2219e-02,  3.1401e-02, -9.8569e-03,  1.8282e-02,\n",
      "        -3.4121e-02, -5.7394e-04, -3.1952e-02,  2.7521e-02, -5.7415e-03,\n",
      "        -3.4358e-03,  2.9138e-02, -1.4831e-02,  1.9188e-02, -1.6958e-04,\n",
      "         7.5333e-03,  1.9451e-02,  2.1002e-02, -3.5682e-02,  2.0775e-02,\n",
      "         2.1337e-02,  2.3325e-02, -3.5615e-03, -2.9846e-02,  6.0283e-03,\n",
      "        -9.2763e-03, -2.1202e-02,  7.4485e-03,  4.9755e-04, -3.0476e-02,\n",
      "         1.7520e-02,  2.1727e-02,  2.3996e-02,  2.6468e-02,  1.0603e-02,\n",
      "        -2.6593e-02, -6.2237e-03, -1.9466e-02,  3.6512e-03,  9.5461e-03,\n",
      "        -5.7765e-03, -1.6658e-02,  1.8752e-02,  2.4723e-02, -1.1333e-02,\n",
      "         1.9162e-02, -3.3234e-02, -9.3048e-03, -4.8666e-03, -3.0087e-02,\n",
      "         3.0028e-02,  2.2469e-02,  1.0628e-02,  2.9444e-02,  2.0418e-02,\n",
      "        -4.3850e-03,  5.9824e-03, -1.0351e-03,  2.1630e-02,  1.1625e-02,\n",
      "        -8.0015e-03,  2.8971e-02, -3.0879e-02, -6.6444e-03,  8.2694e-03,\n",
      "        -4.9134e-03,  9.6885e-03, -9.3421e-03, -3.4860e-02,  1.9470e-02,\n",
      "         2.7957e-02,  5.0670e-03, -1.8237e-02, -1.9067e-02,  9.7530e-03,\n",
      "         1.6892e-02,  1.2498e-02,  3.0255e-02, -8.5592e-04, -2.7307e-02,\n",
      "        -4.3121e-03,  2.4462e-02,  2.9866e-02,  3.2736e-02, -2.9994e-02,\n",
      "         2.3295e-02, -1.4075e-02,  1.3467e-02, -1.6132e-03, -3.0747e-02,\n",
      "         3.1188e-02, -2.2764e-02, -1.8375e-02,  3.4062e-02,  6.7962e-03,\n",
      "        -1.2836e-02, -2.7375e-02, -2.3759e-03,  2.3961e-02, -1.2165e-02,\n",
      "        -3.1798e-02,  1.2266e-02, -1.1162e-02,  1.2807e-02, -8.1129e-03,\n",
      "        -1.6232e-02, -2.9406e-02,  1.0883e-02,  1.6579e-02, -2.7557e-02,\n",
      "         4.6320e-03, -2.4674e-02, -2.4726e-02, -2.2877e-02,  2.3393e-02,\n",
      "        -2.7598e-02,  1.8279e-03,  2.3692e-02,  2.7551e-02,  2.0716e-03,\n",
      "        -2.7456e-02,  5.7944e-03,  3.2939e-02, -3.2351e-02, -3.3861e-02,\n",
      "        -1.6779e-02, -1.2080e-02,  3.4838e-02, -1.1591e-02, -3.3674e-02,\n",
      "         3.1244e-02, -8.4849e-03,  3.0256e-02,  1.7241e-02, -2.0441e-04,\n",
      "         4.1194e-03, -2.3087e-02,  1.4225e-02,  1.8909e-02,  3.9648e-03,\n",
      "         3.1063e-02,  2.7043e-02,  2.7114e-02, -1.2470e-02,  1.1643e-02,\n",
      "        -3.2886e-02, -2.7723e-02,  1.4679e-03, -1.6584e-02,  1.4267e-02,\n",
      "        -9.9491e-03, -1.4287e-02, -3.1443e-02, -9.3875e-03, -1.6642e-02,\n",
      "        -3.0930e-02,  7.5887e-03, -2.4499e-02,  3.4664e-02, -3.5922e-03,\n",
      "         2.8691e-02,  1.1826e-02, -7.4429e-04,  6.2150e-03,  6.3571e-03,\n",
      "         7.4645e-03,  2.1400e-02, -3.5686e-02,  2.1076e-03, -3.4446e-02,\n",
      "        -2.6947e-03, -7.7058e-05, -2.8124e-02, -1.0351e-02,  5.7468e-03,\n",
      "         2.2648e-02, -1.6652e-02,  3.1835e-02,  3.2482e-02, -3.4332e-02,\n",
      "         4.6549e-03, -2.7421e-02,  1.5272e-02,  4.2022e-03,  1.0204e-02,\n",
      "         2.5355e-02,  1.4334e-02, -8.5673e-03,  3.0659e-02,  2.9792e-02,\n",
      "        -3.0795e-02, -3.4497e-02,  1.5379e-02, -1.8847e-02, -2.2707e-02,\n",
      "         2.8166e-02,  2.9328e-02, -3.5522e-02, -2.3684e-02,  6.8927e-04,\n",
      "         9.6948e-03, -1.5955e-02,  3.6419e-03,  1.6949e-02,  3.0577e-03,\n",
      "        -3.0688e-03, -1.2101e-02,  1.3419e-03, -1.7572e-02, -1.3806e-02,\n",
      "        -8.0626e-03,  1.5842e-02, -2.9422e-02,  3.4668e-02, -4.5141e-03,\n",
      "        -1.8170e-02,  3.3804e-02, -2.5032e-02, -2.3569e-02,  2.1478e-02,\n",
      "         1.5574e-02,  2.0856e-02, -9.4627e-03,  1.4013e-02, -3.4585e-03,\n",
      "        -6.4778e-03,  2.7533e-02], device='cuda:0', requires_grad=True) \n",
      "\n"
     ]
    }
   ],
   "source": [
    "print(f\"First Linear weights: {model.linear_relu_stack[0].weight} \\n\")\n",
    "print(f\"First Linear weights: {model.linear_relu_stack[0].bias} \\n\")"
   ]
  },
  {
   "cell_type": "markdown",
   "metadata": {},
   "source": [
    "Model layers <br>\n",
    "Let's break down the layers in the FashionMNIST model. To illustrate it, we will take a sample minibatch of 3 images of size 28x28 and see what happens to it as we pass it through the network."
   ]
  },
  {
   "cell_type": "code",
   "execution_count": 12,
   "metadata": {},
   "outputs": [
    {
     "name": "stdout",
     "output_type": "stream",
     "text": [
      "torch.Size([3, 28, 28])\n"
     ]
    }
   ],
   "source": [
    "input_image = torch.rand(3,28,28)\n",
    "print(input_image.size())"
   ]
  },
  {
   "cell_type": "markdown",
   "metadata": {},
   "source": [
    "\n",
    "nn.Flatten<br>\n",
    "We initialize the nn.Flatten layer to convert each 2D 28x28 image into a contiguous array of 784 pixel values (the minibatch dimension (at dim=0) is maintained). Each of the pixels are pass to the input layer of the neural network."
   ]
  },
  {
   "cell_type": "code",
   "execution_count": 13,
   "metadata": {},
   "outputs": [
    {
     "name": "stdout",
     "output_type": "stream",
     "text": [
      "torch.Size([3, 784])\n"
     ]
    }
   ],
   "source": [
    "flatten = nn.Flatten()\n",
    "flat_image = flatten(input_image)\n",
    "print(flat_image.size())"
   ]
  },
  {
   "cell_type": "markdown",
   "metadata": {},
   "source": [
    "nn.Linear<br>\n",
    "The linear layer is a module that applies a linear transformation on the input using it's stored weights and biases. The gayscale value of each pixel in the input layer will be connected to neurons in the hidden layer for calculation. The calculation used for the transformation is weight*input + bias"
   ]
  },
  {
   "cell_type": "code",
   "execution_count": 14,
   "metadata": {},
   "outputs": [
    {
     "name": "stdout",
     "output_type": "stream",
     "text": [
      "torch.Size([3, 20])\n"
     ]
    }
   ],
   "source": [
    "layer1 = nn.Linear(in_features=28*28, out_features=20)\n",
    "hidden1 = layer1(flat_image)\n",
    "print(hidden1.size())"
   ]
  },
  {
   "cell_type": "markdown",
   "metadata": {},
   "source": [
    "nn.ReLU"
   ]
  },
  {
   "cell_type": "code",
   "execution_count": 15,
   "metadata": {},
   "outputs": [
    {
     "name": "stdout",
     "output_type": "stream",
     "text": [
      "Before ReLU: tensor([[ 0.0462, -0.3010,  0.5002,  0.1128, -0.0976,  0.4411, -0.0614, -0.3842,\n",
      "          0.2014,  0.0769, -0.0272,  0.5066, -0.9085, -0.0308,  0.0757,  0.2414,\n",
      "          0.7776,  0.3511, -0.6870,  0.2679],\n",
      "        [ 0.2838, -0.3519,  0.2310,  0.1383, -0.0072,  0.4355, -0.4603, -0.6335,\n",
      "         -0.4013, -0.1066,  0.3098,  0.7858, -0.5705, -0.3388, -0.1133,  0.1542,\n",
      "          0.3493,  0.3599, -0.7445, -0.0070],\n",
      "        [ 0.4607, -0.5238,  0.4081,  0.4793,  0.2885,  0.3448, -0.0588, -0.3215,\n",
      "         -0.5881, -0.1561, -0.0986,  0.5996, -0.5078, -0.2746, -0.2765,  0.1627,\n",
      "          0.2558,  0.4529, -0.6496,  0.3061]], grad_fn=<AddmmBackward0>)\n",
      "\n",
      "\n",
      "After ReLU: tensor([[0.0462, 0.0000, 0.5002, 0.1128, 0.0000, 0.4411, 0.0000, 0.0000, 0.2014,\n",
      "         0.0769, 0.0000, 0.5066, 0.0000, 0.0000, 0.0757, 0.2414, 0.7776, 0.3511,\n",
      "         0.0000, 0.2679],\n",
      "        [0.2838, 0.0000, 0.2310, 0.1383, 0.0000, 0.4355, 0.0000, 0.0000, 0.0000,\n",
      "         0.0000, 0.3098, 0.7858, 0.0000, 0.0000, 0.0000, 0.1542, 0.3493, 0.3599,\n",
      "         0.0000, 0.0000],\n",
      "        [0.4607, 0.0000, 0.4081, 0.4793, 0.2885, 0.3448, 0.0000, 0.0000, 0.0000,\n",
      "         0.0000, 0.0000, 0.5996, 0.0000, 0.0000, 0.0000, 0.1627, 0.2558, 0.4529,\n",
      "         0.0000, 0.3061]], grad_fn=<ReluBackward0>)\n"
     ]
    }
   ],
   "source": [
    "print(f\"Before ReLU: {hidden1}\\n\\n\")\n",
    "hidden1 = nn.ReLU()(hidden1)\n",
    "print(f\"After ReLU: {hidden1}\")"
   ]
  },
  {
   "cell_type": "markdown",
   "metadata": {},
   "source": [
    "nn.Sequential"
   ]
  },
  {
   "cell_type": "code",
   "execution_count": 16,
   "metadata": {},
   "outputs": [],
   "source": [
    "seq_modules = nn.Sequential(\n",
    "    flatten,\n",
    "    layer1,\n",
    "    nn.ReLU(),\n",
    "    nn.Linear(20, 10)\n",
    ")\n",
    "input_image = torch.rand(3,28,28)\n",
    "logits = seq_modules(input_image)"
   ]
  },
  {
   "cell_type": "markdown",
   "metadata": {},
   "source": [
    "nn.Softmax"
   ]
  },
  {
   "cell_type": "code",
   "execution_count": 17,
   "metadata": {},
   "outputs": [],
   "source": [
    "softmax = nn.Softmax(dim=1)\n",
    "pred_probab = softmax(logits)"
   ]
  },
  {
   "cell_type": "markdown",
   "metadata": {},
   "source": [
    "Model parameters<br>\n",
    "Many layers inside a neural network are parameterized, i.e. have associated weights and biases that are optimized during training. Subclassing nn.Module automatically tracks all fields defined inside your model object, and makes all parameters accessible using your model's parameters() or named_parameters() methods.\n",
    "<br>\n",
    "In this example, we iterate over each parameter, and print its size and a preview of its values."
   ]
  },
  {
   "cell_type": "code",
   "execution_count": 18,
   "metadata": {},
   "outputs": [
    {
     "name": "stdout",
     "output_type": "stream",
     "text": [
      "Model structure:  NeuralNetwork(\n",
      "  (flatten): Flatten(start_dim=1, end_dim=-1)\n",
      "  (linear_relu_stack): Sequential(\n",
      "    (0): Linear(in_features=784, out_features=512, bias=True)\n",
      "    (1): ReLU()\n",
      "    (2): Linear(in_features=512, out_features=512, bias=True)\n",
      "    (3): ReLU()\n",
      "    (4): Linear(in_features=512, out_features=10, bias=True)\n",
      "    (5): ReLU()\n",
      "  )\n",
      ") \n",
      "\n",
      "\n",
      "Layer: linear_relu_stack.0.weight | Size: torch.Size([512, 784]) | Values : tensor([[-0.0283, -0.0243,  0.0049,  ...,  0.0151,  0.0300,  0.0153],\n",
      "        [-0.0118, -0.0102,  0.0020,  ...,  0.0292, -0.0283,  0.0140]],\n",
      "       device='cuda:0', grad_fn=<SliceBackward0>) \n",
      "\n",
      "Layer: linear_relu_stack.0.bias | Size: torch.Size([512]) | Values : tensor([-0.0195,  0.0285], device='cuda:0', grad_fn=<SliceBackward0>) \n",
      "\n",
      "Layer: linear_relu_stack.2.weight | Size: torch.Size([512, 512]) | Values : tensor([[ 0.0262, -0.0017, -0.0014,  ..., -0.0014,  0.0066, -0.0134],\n",
      "        [-0.0403, -0.0439, -0.0211,  ...,  0.0435, -0.0117,  0.0051]],\n",
      "       device='cuda:0', grad_fn=<SliceBackward0>) \n",
      "\n",
      "Layer: linear_relu_stack.2.bias | Size: torch.Size([512]) | Values : tensor([-0.0034, -0.0182], device='cuda:0', grad_fn=<SliceBackward0>) \n",
      "\n",
      "Layer: linear_relu_stack.4.weight | Size: torch.Size([10, 512]) | Values : tensor([[ 0.0141, -0.0092,  0.0188,  ..., -0.0227,  0.0051, -0.0256],\n",
      "        [ 0.0428, -0.0057,  0.0159,  ..., -0.0425, -0.0261,  0.0067]],\n",
      "       device='cuda:0', grad_fn=<SliceBackward0>) \n",
      "\n",
      "Layer: linear_relu_stack.4.bias | Size: torch.Size([10]) | Values : tensor([ 0.0284, -0.0104], device='cuda:0', grad_fn=<SliceBackward0>) \n",
      "\n"
     ]
    }
   ],
   "source": [
    "print(\"Model structure: \", model, \"\\n\\n\")\n",
    "\n",
    "for name, param in model.named_parameters():\n",
    "    print(f\"Layer: {name} | Size: {param.size()} | Values : {param[:2]} \\n\")"
   ]
  },
  {
   "cell_type": "code",
   "execution_count": null,
   "metadata": {},
   "outputs": [],
   "source": []
  }
 ],
 "metadata": {
  "interpreter": {
   "hash": "b3ba2566441a7c06988d0923437866b63cedc61552a5af99d1f4fb67d367b25f"
  },
  "kernelspec": {
   "display_name": "Python 3.9.7 ('base')",
   "language": "python",
   "name": "python3"
  },
  "language_info": {
   "codemirror_mode": {
    "name": "ipython",
    "version": 3
   },
   "file_extension": ".py",
   "mimetype": "text/x-python",
   "name": "python",
   "nbconvert_exporter": "python",
   "pygments_lexer": "ipython3",
   "version": "3.9.7"
  },
  "orig_nbformat": 4
 },
 "nbformat": 4,
 "nbformat_minor": 2
}
